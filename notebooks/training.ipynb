{
 "cells": [
  {
   "cell_type": "code",
   "execution_count": null,
   "id": "312319ad-7597-4db1-806f-3a8c3efa4bc4",
   "metadata": {},
   "outputs": [
    {
     "name": "stderr",
     "output_type": "stream",
     "text": [
      "/home/alan/miniconda3/lib/python3.13/site-packages/kfp/dsl/component_decorator.py:126: FutureWarning: The default base_image used by the @dsl.component decorator will switch from 'python:3.9' to 'python:3.10' on Oct 1, 2025. To ensure your existing components work with versions of the KFP SDK released after that date, you should provide an explicit base_image argument and ensure your component works as intended on Python 3.10.\n",
      "  return component_factory.create_component_from_func(\n"
     ]
    },
    {
     "data": {
      "application/vnd.jupyter.widget-view+json": {
       "model_id": "8bc2ae869d074068ae0fdf1ce9d9dac2",
       "version_major": 2,
       "version_minor": 0
      },
      "text/plain": [
       "VBox(children=(HTML(value='<center> <img\\nsrc=https://huggingface.co/front/assets/huggingface_logo-noborder.sv…"
      ]
     },
     "metadata": {},
     "output_type": "display_data"
    },
    {
     "name": "stdout",
     "output_type": "stream",
     "text": [
      "1\n",
      "3.2846996784210205\n",
      "1\n",
      "3.281506061553955\n",
      "1\n"
     ]
    }
   ],
   "source": [
    "import torch\n",
    "import torch.nn as nn\n",
    "import torch.optim as optim\n",
    "from ajperry_pipeline.ml.models import Transformer\n",
    "\n",
    "\n",
    "num_epochs = 100\n",
    "device=\"cpu\"\n",
    "\n",
    "criterion = nn.BCEWithLogitsLoss(reduction='none')\n",
    "\n",
    "# Dummy data\n",
    "\n",
    "\n",
    "\n",
    "\n",
    "transformer = Transformer(\n",
    "        embedding_model=\"bert-base-uncased\", \n",
    "        num_heads= 2,\n",
    "        num_encoders= 6,\n",
    "        num_nn_layers = 3,\n",
    "        embedding_size = 128,\n",
    "        device = device,\n",
    "        max_length = 20\n",
    "    )\n",
    "optimizer = optim.SGD(transformer.parameters(), lr=0.005)\n",
    "\n",
    "transformer = transformer.to(device)\n",
    "\n",
    "losses = []\n",
    "criterion = nn.BCEWithLogitsLoss(reduction='none')\n",
    "optimizer = optim.SGD(transformer.parameters(), lr=0.01)\n",
    "\n",
    "# Dummy data\n",
    "input_data = [\"hello how are you\"]\n",
    "target_data = [\"i am well\"]\n",
    "\n",
    "# Training loop (one optimization step shown)\n",
    "for epoch in range(num_epochs): # Illustrative single epoch\n",
    "    # 1. Forward pass\n",
    "    output_logits, outputs, ended = transformer(input_data)\n",
    "    actuals = torch.tensor([transformer.tokenizer.encode(target_data[i],truncation=True, padding='max_length', max_length=transformer.max_length) for i in range(len(target_data))])\n",
    "    actuals_onehot = torch.nn.functional.one_hot(actuals, num_classes=transformer.tokenizer.vocab_size)\n",
    "    logits = torch.stack([torch.stack(logit) for logit in output_logits])\n",
    "    # Calculate the loss\n",
    "    loss = criterion(logits, actuals_onehot.float())\n",
    "    for i, e in enumerate(ended):\n",
    "        loss[i,e:] = 0.0\n",
    "    loss = loss.mean()\n",
    "    optimizer.zero_grad()\n",
    "    print(1)\n",
    "    loss.backward()\n",
    "    # # 4. Update parameters\n",
    "    optimizer.step()\n",
    "    losses.append(loss.item())\n",
    "    print(loss.item())"
   ]
  },
  {
   "cell_type": "code",
   "execution_count": null,
   "id": "14302d84-5a21-43e1-a5ae-40f65b1408a9",
   "metadata": {},
   "outputs": [],
   "source": []
  }
 ],
 "metadata": {
  "kernelspec": {
   "display_name": "Python 3 (ipykernel)",
   "language": "python",
   "name": "python3"
  },
  "language_info": {
   "codemirror_mode": {
    "name": "ipython",
    "version": 3
   },
   "file_extension": ".py",
   "mimetype": "text/x-python",
   "name": "python",
   "nbconvert_exporter": "python",
   "pygments_lexer": "ipython3",
   "version": "3.13.5"
  }
 },
 "nbformat": 4,
 "nbformat_minor": 5
}
